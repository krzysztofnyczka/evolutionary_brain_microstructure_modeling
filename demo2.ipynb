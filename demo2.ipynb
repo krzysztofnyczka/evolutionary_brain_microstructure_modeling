{
 "cells": [
  {
   "cell_type": "code",
   "execution_count": 1,
   "metadata": {},
   "outputs": [
    {
     "name": "stdout",
     "output_type": "stream",
     "text": [
      "Wall time: 10.2 s\n"
     ]
    }
   ],
   "source": [
    "%%time\n",
    "\n",
    "import nibabel as nib\n",
    "import numpy as np\n",
    "\n",
    "import matplotlib.pyplot as plt\n",
    "import matplotlib.patches as patches\n",
    "import matplotlib.image as mpimg\n",
    "%matplotlib inline\n",
    "\n",
    "import dmipy.data.saved_acquisition_schemes as saved_acquisition_schemes\n",
    "\n",
    "from dmipy.signal_models import cylinder_models, gaussian_models\n",
    "from dmipy.core.modeling_framework import MultiCompartmentModel\n",
    "from dmipy.core.fitted_modeling_framework import FittedMultiCompartmentModel\n",
    "\n",
    "from dipy.viz import window, actor\n",
    "\n",
    "import tqdm\n",
    "\n",
    "import warnings\n",
    "warnings.filterwarnings(\"ignore\")"
   ]
  },
  {
   "cell_type": "code",
   "execution_count": 2,
   "metadata": {},
   "outputs": [],
   "source": [
    "import numba\n",
    "import pathos"
   ]
  },
  {
   "cell_type": "code",
   "execution_count": 3,
   "metadata": {},
   "outputs": [],
   "source": [
    "data_hcp = nib.load('wu_minn_hcp_coronal_slice.nii.gz').get_data()\n",
    "scheme_hcp = saved_acquisition_schemes.wu_minn_hcp_acquisition_scheme()"
   ]
  },
  {
   "cell_type": "code",
   "execution_count": 4,
   "metadata": {},
   "outputs": [
    {
     "data": {
      "image/png": "[encoded data removed]",
      "text/plain": [
       "<Figure size 720x720 with 1 Axes>"
      ]
     },
     "metadata": {
      "needs_background": "light"
     },
     "output_type": "display_data"
    }
   ],
   "source": [
    "roi = {'x': 70, 'y': 70, 'width': 20, 'height': 20}\n",
    "data_hcp_roi = data_hcp[\n",
    "    roi['x'] : roi['x'] + roi['width'], :, roi['y'] : roi['y'] + roi['height']\n",
    "]\n",
    "\n",
    "fig, ax = plt.subplots(figsize=[10, 10])\n",
    "ax.imshow(data_hcp[:, 0, :, 0].T, origin='lower', cmap='gray', interpolation='nearest')\n",
    "\n",
    "rect = patches.Rectangle(\n",
    "    (roi['x'], roi['y']), roi['width'], roi['height'], \n",
    "    linewidth = 3, edgecolor = 'r', facecolor = 'none'\n",
    ")\n",
    "ax.add_patch(rect)\n",
    "ax.set_axis_off()\n",
    "ax.set_title('Coronal slice with ROI');"
   ]
  },
  {
   "cell_type": "code",
   "execution_count": 5,
   "metadata": {},
   "outputs": [],
   "source": [
    "ball = gaussian_models.G1Ball()\n",
    "stick = cylinder_models.C1Stick()\n",
    "bas_model = MultiCompartmentModel(models=[stick, ball])"
   ]
  },
  {
   "cell_type": "code",
   "execution_count": 6,
   "metadata": {},
   "outputs": [
    {
     "name": "stdout",
     "output_type": "stream",
     "text": [
      "Fitting accuracy:\n",
      "MSE +/- STD = 0.105955 +/- 0.111695\n"
     ]
    }
   ],
   "source": [
    "def set_parameters(our_voxel_bas_model, scheme_hcp, voxel_signal):\n",
    "    params = []\n",
    "\n",
    "    # estimate S0\n",
    "    our_voxel_bas_model.scheme = scheme_hcp\n",
    "    S0 = np.mean(voxel_signal[scheme_hcp.b0_mask], axis=-1)\n",
    "    \n",
    "    # G1Ball_1_lambda_iso\n",
    "    param_range = our_voxel_bas_model.parameter_ranges['G1Ball_1_lambda_iso']\n",
    "    lambda_iso = np.random.uniform(param_range[0], param_range[1]) * 1e-09\n",
    "\n",
    "    # C1Stick_1_mu\n",
    "    param_ranges = our_voxel_bas_model.parameter_ranges['C1Stick_1_mu']\n",
    "    mu_1 = np.random.uniform(param_ranges[0][0], param_ranges[0][1])\n",
    "    mu_2 = np.random.uniform(param_ranges[1][0], param_ranges[1][1])\n",
    "    \n",
    "    # C1Stick_1_lambda_par\n",
    "    param_range = our_voxel_bas_model.parameter_ranges['C1Stick_1_lambda_par']\n",
    "    lambda_parallel = np.random.uniform(param_range[0], param_range[1]) * 1e-09\n",
    "    \n",
    "    # partial_volume_0\n",
    "    param_range = our_voxel_bas_model.parameter_ranges['partial_volume_0']\n",
    "    f_stick = np.random.uniform(param_range[0], param_range[1])\n",
    "    \n",
    "    # partial_volume_1\n",
    "    param_range = our_voxel_bas_model.parameter_ranges['partial_volume_1']\n",
    "    f_ball = np.random.uniform(param_range[0], param_range[1])\n",
    "            \n",
    "    return FittedMultiCompartmentModel(\n",
    "        our_voxel_bas_model, np.array(S0), np.array([True]), \n",
    "        np.array([[mu_1, mu_2, lambda_iso, lambda_parallel, f_stick, f_ball]])\n",
    "    )\n",
    "\n",
    "our_bas_model = {}\n",
    "voxel_mse = np.zeros([roi['width'], roi['height']])\n",
    "\n",
    "for x in range(roi['width']):\n",
    "    our_bas_model[x] = {}\n",
    "    for y in range(roi['height']):\n",
    "        \n",
    "        voxel_signal = data_hcp_roi[x, 0, y, :]\n",
    "        our_bas_model[x][y] = set_parameters(bas_model, scheme_hcp, voxel_signal)\n",
    "        \n",
    "        voxel_mse[x][y] = our_bas_model[x][y].mean_squared_error(voxel_signal)\n",
    "          \n",
    "print(\"Fitting accuracy:\")        \n",
    "print(\"MSE +/- STD = %f +/- %f\" % (np.mean(voxel_mse), np.std(voxel_mse)))"
   ]
  },
  {
   "cell_type": "code",
   "execution_count": 7,
   "metadata": {},
   "outputs": [
    {
     "name": "stdout",
     "output_type": "stream",
     "text": [
      "our randomized model:\n"
     ]
    },
    {
     "data": {
      "image/png": "[encoded data removed]",
      "text/plain": [
       "<Figure size 720x720 with 1 Axes>"
      ]
     },
     "metadata": {
      "needs_background": "light"
     },
     "output_type": "display_data"
    }
   ],
   "source": [
    "def visualize_result(bas_models_fit):\n",
    "\n",
    "    affine = np.eye(4)\n",
    "    affine[0,3] = -10\n",
    "    affine[1,3] = -10\n",
    "\n",
    "    volume = np.zeros([roi['width'], roi['height'], 1])\n",
    "    peak_dirs = np.zeros([roi['width'], roi['height'], 1, 1, 3])\n",
    "\n",
    "    for x in range(roi['width']):\n",
    "        for y in range(roi['height']):\n",
    "            volume[x, y, 0] = bas_models_fit[x][y].fitted_parameters['partial_volume_0']\n",
    "            peak_cart = np.squeeze(bas_models_fit[x][y].peaks_cartesian())\n",
    "            peak_dirs[x, y, 0] = [peak_cart[0], peak_cart[2], -peak_cart[1]]\n",
    "\n",
    "    ren = window.ren()\n",
    "    ren.add(actor.slicer(volume, interpolation='nearest', affine=affine, opacity=0.7))\n",
    "    ren.add(actor.peak_slicer(peak_dirs, None, affine=affine, linewidth=5, colors=None))   \n",
    "\n",
    "    window.record(ren, size=[700, 700], out_path='dipy.png')\n",
    "    \n",
    "    img = mpimg.imread('dipy.png')\n",
    "    plt.figure(figsize=[10, 10])\n",
    "    plt.imshow(img) #[100:-97, 100:-85])\n",
    "    plt.axis('off');\n",
    "    \n",
    "print(\"our randomized model:\")\n",
    "visualize_result(our_bas_model)"
   ]
  },
  {
   "cell_type": "markdown",
   "metadata": {},
   "source": [
    "# ES"
   ]
  },
  {
   "cell_type": "code",
   "execution_count": 8,
   "metadata": {},
   "outputs": [],
   "source": [
    "def es_for_single_voxel(objective_function, chromosome_length, population_size, number_of_iterations, number_of_offspring, number_of_parents, sigma, tau, tau_0, log_frequency=1, R=None,mutation_type=\"3\"):\n",
    "\n",
    "    best_solution = np.empty((1, chromosome_length))\n",
    "    best_solution_objective_value = 1e10\n",
    "\n",
    "    log_objective_values = np.empty((number_of_iterations, 4))\n",
    "    log_best_solutions = np.empty((number_of_iterations, chromosome_length))\n",
    "    \n",
    "    def mut1(og):\n",
    "        return og + sigma * np.random.randn(number_of_offspring, chromosome_length)\n",
    "    \n",
    "    def mut2(og):\n",
    "        S = np.random.uniform(0,sigma, chromosome_length)\n",
    "        return og + S * np.random.randn(number_of_offspring, chromosome_length)\n",
    "    \n",
    "    def mut3(og):\n",
    "        S = np.random.uniform(0,sigma, size=(chromosome_length, chromosome_length))\n",
    "        S = np.dot(S,S.T)\n",
    "        return og + np.dot(np.random.randn(number_of_offspring, chromosome_length), np.linalg.cholesky(S).T)\n",
    "    \n",
    "    # mutation function\n",
    "    if mutation_type == \"1\":\n",
    "        mutation_f = mut1\n",
    "    elif mutation_type == \"2\":\n",
    "        mutation_f = mut2\n",
    "    elif mutation_type == \"3\":\n",
    "        mutation_f = mut3\n",
    "    else:\n",
    "        print(\"Wrong mutation function!\")\n",
    "    \n",
    "    def in_domain(chrom, R):\n",
    "        for p in range(len(chrom)):\n",
    "            if not R[p][0] < chrom[p] < R[p][1]:\n",
    "                chrom[p] = np.random.uniform(R[p][0],R[p][1])\n",
    "        return chrom\n",
    "    \n",
    "    def initial_population(population_size, R):\n",
    "        current_population_solutions = np.zeros((population_size, chromosome_length))\n",
    "        for pop in range(population_size):\n",
    "            for p in range(chromosome_length):\n",
    "                current_population_solutions[pop][p] = np.random.uniform(R[p][0],R[p][1])\n",
    "        return current_population_solutions\n",
    "\n",
    "    # generating an initial population\n",
    "    current_population_solutions = initial_population(population_size, R)\n",
    "\n",
    "    # evaluating the objective function on the current population\n",
    "    current_population_objective_values = np.zeros(population_size)\n",
    "    for i, guy in enumerate(current_population_solutions):\n",
    "            current_population_objective_values[i] = objective_function(guy)\n",
    "\n",
    "    for t in range(number_of_iterations):\n",
    "\n",
    "        # selecting the parent indices by the roulette wheel method\n",
    "        fitness_values = current_population_objective_values - current_population_objective_values.min()\n",
    "        if fitness_values.sum() > 0:\n",
    "            fitness_values = fitness_values / fitness_values.sum()\n",
    "        else:\n",
    "            fitness_values = 1.0 / population_size * np.ones(population_size)\n",
    "        parent_indices = np.random.choice(population_size, (number_of_offspring, number_of_parents), True, fitness_values).astype(np.int64)\n",
    "\n",
    "        # creating the children population by Global Intermediere Recombination\n",
    "        children_population_solutions = np.zeros((number_of_offspring, chromosome_length))\n",
    "        \n",
    "        for i in range(number_of_offspring):\n",
    "            children_population_solutions[i, :] = current_population_solutions[parent_indices[i, :], :].mean(axis=0)\n",
    "\n",
    "        # mutating the children population by adding random gaussian noise\n",
    "        children_population_solutions = mutation_f(children_population_solutions)\n",
    "        \n",
    "        # check if in domain\n",
    "        for chrom in children_population_solutions:\n",
    "            chrom = in_domain(chrom, R)                \n",
    "        \n",
    "        # evaluating the objective function on the children population\n",
    "        children_population_objective_values = np.zeros(len(children_population_solutions))\n",
    "        for i, child in enumerate(children_population_solutions):\n",
    "            children_population_objective_values[i] = objective_function(child)\n",
    "\n",
    "        # replacing the current population by (Mu + Lambda) Replacement\n",
    "        current_population_objective_values = np.hstack([current_population_objective_values, children_population_objective_values])\n",
    "        current_population_solutions = np.vstack([current_population_solutions, children_population_solutions])\n",
    "\n",
    "        I = np.argsort(-current_population_objective_values)[::-1]\n",
    "        current_population_solutions = current_population_solutions[I[:population_size], :]\n",
    "        current_population_objective_values = current_population_objective_values[I[:population_size]]\n",
    "\n",
    "        # recording some statistics\n",
    "        if best_solution_objective_value > current_population_objective_values[0]:\n",
    "            best_solution = current_population_solutions[0]\n",
    "            best_solution_objective_value = current_population_objective_values[0]\n",
    "        log_objective_values[t, :] = [current_population_objective_values.min(), current_population_objective_values.max(), current_population_objective_values.mean(), current_population_objective_values.std()]\n",
    "        log_best_solutions[t, :] = current_population_solutions[0, :]\n",
    "        \n",
    "        if log_frequency != -1 and np.mod(t, log_frequency) == 0:\n",
    "            print(\"Iteration %04d : best score = %0.8f, mean score = %0.8f.\" % (t, log_objective_values[:t+1, 0].min(), log_objective_values[t, 2]))\n",
    "    return best_solution_objective_value, best_solution, log_objective_values, log_best_solutions"
   ]
  },
  {
   "cell_type": "code",
   "execution_count": 9,
   "metadata": {},
   "outputs": [],
   "source": [
    "def set_params_from_chrom(chrom, our_voxel_bas_model, scheme_hcp, voxel_signal):\n",
    "    our_voxel_bas_model.scheme = scheme_hcp\n",
    "    S0 = np.mean(voxel_signal[scheme_hcp.b0_mask], axis=-1)\n",
    "    \n",
    "    mu_1, mu_2 = chrom[0], chrom[1]\n",
    "    lambda_parallel = chrom[2] * 1e-09\n",
    "    lambda_iso = chrom[3] * 1e-09\n",
    "    f_stick = chrom[4]\n",
    "    f_ball = chrom[5]\n",
    "    \n",
    "    return FittedMultiCompartmentModel(\n",
    "            our_voxel_bas_model, np.array(S0), np.array([True]), \n",
    "            np.array([[mu_1, mu_2, lambda_iso, lambda_parallel, f_stick, f_ball]])\n",
    "    )\n",
    "\n",
    "\n",
    "def single_voxel_function(chromosome, bas_model, scheme_hcp, voxel_signal):\n",
    "    '''\n",
    "    dla danego chromosomu o dl. 6 wypluwa jego MSE\n",
    "    '''\n",
    "    model = set_params_from_chrom(chromosome, bas_model, scheme_hcp, voxel_signal)\n",
    "    return model.mean_squared_error(voxel_signal)\n",
    "\n",
    "def domain_dict_to_array(d):\n",
    "    domains_dict = d\n",
    "    domains_list = np.array(list(domains_dict.values()))\n",
    "    domains_array = np.array(domains_list[0][0])\n",
    "    domains_array = np.vstack((domains_array, domains_list[0][1]))\n",
    "    domains_array = np.vstack((domains_array, domains_list[1]))\n",
    "    domains_array = np.vstack((domains_array, domains_list[2]))\n",
    "    domains_array = np.vstack((domains_array, domains_list[3]))\n",
    "    domains_array = np.vstack((domains_array, domains_list[4]))\n",
    "    return domains_array\n"
   ]
  },
  {
   "cell_type": "code",
   "execution_count": 10,
   "metadata": {},
   "outputs": [],
   "source": [
    "def set_random_parameters(our_voxel_bas_model, scheme_hcp, voxel_signal):\n",
    "    params = []\n",
    "\n",
    "    # estimate S0\n",
    "    our_voxel_bas_model.scheme = scheme_hcp\n",
    "    S0 = np.mean(voxel_signal[scheme_hcp.b0_mask], axis=-1)\n",
    "    \n",
    "    # G1Ball_1_lambda_iso\n",
    "    param_range = our_voxel_bas_model.parameter_ranges['G1Ball_1_lambda_iso']\n",
    "    lambda_iso = np.random.uniform(param_range[0], param_range[1]) * 1e-09\n",
    "\n",
    "    # C1Stick_1_mu\n",
    "    param_ranges = our_voxel_bas_model.parameter_ranges['C1Stick_1_mu']\n",
    "    mu_1 = np.random.uniform(param_ranges[0][0], param_ranges[0][1])\n",
    "    mu_2 = np.random.uniform(param_ranges[1][0], param_ranges[1][1])\n",
    "    \n",
    "    # C1Stick_1_lambda_par\n",
    "    param_range = our_voxel_bas_model.parameter_ranges['C1Stick_1_lambda_par']\n",
    "    lambda_parallel = np.random.uniform(param_range[0], param_range[1]) * 1e-09\n",
    "    \n",
    "    # partial_volume_0\n",
    "    param_range = our_voxel_bas_model.parameter_ranges['partial_volume_0']\n",
    "    f_stick = np.random.uniform(param_range[0], param_range[1])\n",
    "    \n",
    "    # partial_volume_1\n",
    "    param_range = our_voxel_bas_model.parameter_ranges['partial_volume_1']\n",
    "    f_ball = np.random.uniform(param_range[0], param_range[1])\n",
    "            \n",
    "    return FittedMultiCompartmentModel(\n",
    "        our_voxel_bas_model, np.array(S0), np.array([True]), \n",
    "        np.array([[mu_1, mu_2, lambda_iso, lambda_parallel, f_stick, f_ball]])\n",
    "    )\n",
    "\n",
    "\n",
    "def set_params_from_chrom(chrom, our_voxel_bas_model, scheme_hcp, voxel_signal):\n",
    "    our_voxel_bas_model.scheme = scheme_hcp\n",
    "    S0 = np.mean(voxel_signal[scheme_hcp.b0_mask], axis=-1)\n",
    "    \n",
    "    mu_1, mu_2 = chrom[0], chrom[1]\n",
    "    lambda_parallel = chrom[2] * 1e-09\n",
    "    lambda_iso = chrom[3] * 1e-09\n",
    "    f_stick = chrom[4]\n",
    "    f_ball = chrom[5]\n",
    "    \n",
    "    return FittedMultiCompartmentModel(\n",
    "            our_voxel_bas_model, np.array(S0), np.array([True]), \n",
    "            np.array([[mu_1, mu_2, lambda_iso, lambda_parallel, f_stick, f_ball]])\n",
    "    )\n",
    "\n",
    "def objective_function(ch, bas_model, scheme_hcp, voxel_signal):\n",
    "    new_chroms = ch.reshape((roi['width'], roi['height'], 6))\n",
    "    \n",
    "    our_bas_model = {}\n",
    "    voxel_mse = np.zeros([roi['width'], roi['height']])\n",
    "\n",
    "    for x in range(roi['width']):\n",
    "        our_bas_model[x] = {}\n",
    "        for y in range(roi['height']):\n",
    "\n",
    "            voxel_signal = data_hcp_roi[x, 0, y, :]\n",
    "            our_bas_model[x][y] = set_params_from_chrom(new_chroms[x][y], bas_model, scheme_hcp, voxel_signal)\n",
    "\n",
    "            voxel_mse[x][y] = our_bas_model[x][y].mean_squared_error(voxel_signal)\n",
    "\n",
    "    return np.mean(voxel_mse)"
   ]
  },
  {
   "cell_type": "code",
   "execution_count": 18,
   "metadata": {},
   "outputs": [
    {
     "name": "stderr",
     "output_type": "stream",
     "text": [
      "100%|██████████████████████████████████████████████████████████████████████████████████| 20/20 [03:58<00:00, 11.92s/it]\n"
     ]
    },
    {
     "name": "stdout",
     "output_type": "stream",
     "text": [
      "\n",
      "Final MSE: 0.003639859591010608 and STD: 0.0017119811951108216\n",
      "Wall time: 4min\n"
     ]
    },
    {
     "data": {
      "image/png": "[encoded data removed]",
      "text/plain": [
       "<Figure size 720x720 with 1 Axes>"
      ]
     },
     "metadata": {
      "needs_background": "light"
     },
     "output_type": "display_data"
    }
   ],
   "source": [
    "%%time\n",
    "# MAIN EVOLUTION PROCESS\n",
    "d = 6\n",
    "N = 50\n",
    "T = 30\n",
    "\n",
    "ball = gaussian_models.G1Ball()\n",
    "stick = cylinder_models.C1Stick()\n",
    "bas_model = MultiCompartmentModel(models=[stick, ball])\n",
    "\n",
    "# IMAGE SELECTION\n",
    "\n",
    "our_bas_model = {}\n",
    "voxel_mse = np.zeros([roi['width'], roi['height']])\n",
    "\n",
    "for x in tqdm.tqdm(range(roi['width'])):\n",
    "    our_bas_model[x] = {}\n",
    "    for y in range(roi['height']):\n",
    "\n",
    "        voxel_signal = data_hcp_roi[x, 0, y, :]\n",
    "        best_value, best_chromosome, _, _ = es_for_single_voxel(lambda ch: single_voxel_function(ch, bas_model, scheme_hcp, voxel_signal),\n",
    "                                                         d, N, T, 3*N, 2, 0.2, 1/np.sqrt(2*d), 1/np.sqrt(2*np.sqrt(d)),\n",
    "                                                         -1, R=domain_dict_to_array(bas_model.parameter_ranges), mutation_type=\"1\")\n",
    "\n",
    "        our_bas_model[x][y] = set_params_from_chrom(best_chromosome, bas_model, scheme_hcp, voxel_signal)\n",
    "\n",
    "        voxel_mse[x][y] = our_bas_model[x][y].mean_squared_error(voxel_signal)\n",
    "\n",
    "print()\n",
    "print(f'Final MSE: {np.mean(voxel_mse)} and STD: {np.std(voxel_mse)}')\n",
    "visualize_result(our_bas_model)"
   ]
  },
  {
   "cell_type": "code",
   "execution_count": 19,
   "metadata": {},
   "outputs": [
    {
     "name": "stderr",
     "output_type": "stream",
     "text": [
      "100%|██████████████████████████████████████████████████████████████████████████████████| 20/20 [04:05<00:00, 12.27s/it]\n"
     ]
    },
    {
     "name": "stdout",
     "output_type": "stream",
     "text": [
      "\n",
      "Final MSE: 0.0034733794415457053 and STD: 0.0016376888439249304\n",
      "Wall time: 4min 7s\n"
     ]
    },
    {
     "data": {
      "image/png": "[encoded data removed]",
      "text/plain": [
       "<Figure size 720x720 with 1 Axes>"
      ]
     },
     "metadata": {
      "needs_background": "light"
     },
     "output_type": "display_data"
    }
   ],
   "source": [
    "%%time\n",
    "# MAIN EVOLUTION PROCESS\n",
    "d = 6\n",
    "N = 50\n",
    "T = 30\n",
    "\n",
    "ball = gaussian_models.G1Ball()\n",
    "stick = cylinder_models.C1Stick()\n",
    "bas_model = MultiCompartmentModel(models=[stick, ball])\n",
    "\n",
    "# IMAGE SELECTION\n",
    "\n",
    "our_bas_model = {}\n",
    "voxel_mse = np.zeros([roi['width'], roi['height']])\n",
    "\n",
    "for x in tqdm.tqdm(range(roi['width'])):\n",
    "    our_bas_model[x] = {}\n",
    "    for y in range(roi['height']):\n",
    "\n",
    "        voxel_signal = data_hcp_roi[x, 0, y, :]\n",
    "        best_value, best_chromosome, _, _ = es_for_single_voxel(lambda ch: single_voxel_function(ch, bas_model, scheme_hcp, voxel_signal),\n",
    "                                                         d, N, T, 3*N, 2, 0.2, 1/np.sqrt(2*d), 1/np.sqrt(2*np.sqrt(d)),\n",
    "                                                         -1, R=domain_dict_to_array(bas_model.parameter_ranges), mutation_type=\"2\")\n",
    "\n",
    "        our_bas_model[x][y] = set_params_from_chrom(best_chromosome, bas_model, scheme_hcp, voxel_signal)\n",
    "\n",
    "        voxel_mse[x][y] = our_bas_model[x][y].mean_squared_error(voxel_signal)\n",
    "\n",
    "print()\n",
    "print(f'Final MSE: {np.mean(voxel_mse)} and STD: {np.std(voxel_mse)}')\n",
    "visualize_result(our_bas_model)"
   ]
  },
  {
   "cell_type": "code",
   "execution_count": 20,
   "metadata": {},
   "outputs": [
    {
     "name": "stderr",
     "output_type": "stream",
     "text": [
      "100%|██████████████████████████████████████████████████████████████████████████████████| 20/20 [04:03<00:00, 12.18s/it]\n"
     ]
    },
    {
     "name": "stdout",
     "output_type": "stream",
     "text": [
      "\n",
      "Final MSE: 0.0038204755721520252 and STD: 0.0016774839258166727\n",
      "Wall time: 4min 5s\n"
     ]
    },
    {
     "data": {
      "image/png": "[encoded data removed]",
      "text/plain": [
       "<Figure size 720x720 with 1 Axes>"
      ]
     },
     "metadata": {
      "needs_background": "light"
     },
     "output_type": "display_data"
    }
   ],
   "source": [
    "%%time\n",
    "# MAIN EVOLUTION PROCESS\n",
    "d = 6\n",
    "N = 50\n",
    "T = 30\n",
    "\n",
    "ball = gaussian_models.G1Ball()\n",
    "stick = cylinder_models.C1Stick()\n",
    "bas_model = MultiCompartmentModel(models=[stick, ball])\n",
    "\n",
    "# IMAGE SELECTION\n",
    "\n",
    "our_bas_model = {}\n",
    "voxel_mse = np.zeros([roi['width'], roi['height']])\n",
    "\n",
    "for x in tqdm.tqdm(range(roi['width'])):\n",
    "    our_bas_model[x] = {}\n",
    "    for y in range(roi['height']):\n",
    "\n",
    "        voxel_signal = data_hcp_roi[x, 0, y, :]\n",
    "        best_value, best_chromosome, _, _ = es_for_single_voxel(lambda ch: single_voxel_function(ch, bas_model, scheme_hcp, voxel_signal),\n",
    "                                                         d, N, T, 3*N, 2, 0.2, 1/np.sqrt(2*d), 1/np.sqrt(2*np.sqrt(d)),\n",
    "                                                         -1, R=domain_dict_to_array(bas_model.parameter_ranges), mutation_type=\"3\")\n",
    "#         print(f'Best MSE of voxel x={x},y={y} is {np.round(best_value,4)}')\n",
    "\n",
    "        our_bas_model[x][y] = set_params_from_chrom(best_chromosome, bas_model, scheme_hcp, voxel_signal)\n",
    "\n",
    "        voxel_mse[x][y] = our_bas_model[x][y].mean_squared_error(voxel_signal)\n",
    "\n",
    "print()\n",
    "print(f'Final MSE: {np.mean(voxel_mse)} and STD: {np.std(voxel_mse)}')\n",
    "visualize_result(our_bas_model)"
   ]
  },
  {
   "cell_type": "code",
   "execution_count": 84,
   "metadata": {},
   "outputs": [],
   "source": [
    "class ES():\n",
    "    def __init__(self, R, d, mi, lambda_, F, max_iter=100,learning_rate=0.01,debug=False, ES_type=\"+\",mutation_type=\"0\"):\n",
    "        self.R = R\n",
    "        self.d = d\n",
    "        self.mi = mi # offspring\n",
    "        self.lambda_ = lambda_ # parents\n",
    "        self.F = F\n",
    "        self.current_population = []\n",
    "        self.current_values = []\n",
    "        self.max_iter = max_iter\n",
    "        self.learning_rate = learning_rate\n",
    "        self.tau0 = learning_rate/np.sqrt(2*np.sqrt(d))\n",
    "        self.tau = learning_rate/np.sqrt(2*d)\n",
    "        self.debug = debug\n",
    "        \n",
    "        if mutation_type == \"0\":\n",
    "            self.mutation = self.mutation0\n",
    "        if mutation_type == \"1\":\n",
    "            self.mutation = self.mutation1\n",
    "        if mutation_type == \"2\":\n",
    "            self.mutation = self.mutation2\n",
    "        if mutation_type == \"3\":\n",
    "            self.mutation = self.mutation3\n",
    "        if mutation_type == \"4\":\n",
    "            self.mutation = self.mutation4\n",
    "        \n",
    "        if ES_type == \"+\":\n",
    "            self.es_type = '+'\n",
    "        elif ES_type == \",\":\n",
    "            self.es_type = ','\n",
    "        else:\n",
    "            print(\"Wrong ES type. Try '+' or ','\")\n",
    "        \n",
    "        self.results = np.array([(0,0,0)])\n",
    "    \n",
    "    def in_domain(self, chrom):\n",
    "        for p in range(len(chrom)):\n",
    "            if not self.R[p][0] < chrom[p] < self.R[p][1]:\n",
    "                chrom[p] = np.random.uniform(self.R[p][0],self.R[p][1])\n",
    "        return chrom\n",
    "        \n",
    "    def check_if_in_domain(self, chrom):\n",
    "        for p in range(len(chrom)):\n",
    "            if not self.R[p][0] < chrom[p] < self.R[p][1]:\n",
    "                return False\n",
    "        return True\n",
    "    \n",
    "    def plot_values(self):\n",
    "        plt.figure()\n",
    "        plt.plot(self.results.T[1].T,color='green',label='min')\n",
    "        plt.plot(self.results.T[0].T,color='blue',label='mean')\n",
    "        plt.plot(self.results.T[2].T,color='red',label='max')\n",
    "        plt.legend()\n",
    "        plt.show()\n",
    "        \n",
    "    def random_population(self):\n",
    "        # arg: self.mi\n",
    "        # osobnik: x1,...,xd, s1,...,sd\n",
    "        self.current_population = np.zeros((self.mi, 2, self.d))\n",
    "        for pop in range(self.mi):\n",
    "            for p in range(self.d):\n",
    "                self.current_population[pop][0][p] = np.random.uniform(self.R[p][0],self.R[p][1])\n",
    "                self.current_population[pop][1][p] = np.random.uniform(self.R[p][0],self.R[p][1])\n",
    "        self.current_values = np.zeros((self.mi, 1))\n",
    "    \n",
    "    def population_evaluation(self):\n",
    "        # arg: self.current_population, self.F\n",
    "        for i,sb in enumerate(self.current_population):\n",
    "            self.current_values[i] = self.F(sb[0])\n",
    "    \n",
    "    def parent_selection(self):\n",
    "        # arg: self.current_population, self.lambda_\n",
    "        \n",
    "        # roulette method\n",
    "        costs = np.array([self.F(i[0]) for i in self.current_population])\n",
    "        costs = costs.reshape(-1)\n",
    "        fitness_values = costs - costs.min()\n",
    "        if fitness_values.sum() > 0:\n",
    "            fitness_values = fitness_values / fitness_values.sum()\n",
    "        else:\n",
    "            fitness_values = 1.0 / self.mi * np.ones(self.mi)\n",
    "        parent_indices = np.random.choice(len(self.current_population), size=len(self.current_population), replace=True,p=fitness_values).astype(np.int64)\n",
    "        return self.current_population[parent_indices]\n",
    "    \n",
    "    def mutation0(self, pc):\n",
    "        # sprawdz czy miesci sie w dziedzinie\n",
    "        pcc = pc.copy()\n",
    "        for sb in range(len(pc)):\n",
    "            addition = np.exp(np.random.normal(0, self.tau ** 2, size=len(pc[sb][1])) + np.random.normal(0, self.tau0 ** 2))\n",
    "            # taus\n",
    "            pcc[sb][1] *= addition\n",
    "            los = pcc[sb][0] + np.random.normal(0, pcc[sb][1] ** 2,size=self.d)\n",
    "            # jesli ciagle poza dziedzina\n",
    "            los = self.in_domain(los)\n",
    "            pcc[sb][0] = los\n",
    "        return pcc\n",
    "    \n",
    "    def mutation1(self, pc):\n",
    "        for sb in range(len(pc)):\n",
    "            sigma = 0.25\n",
    "            pc[sb][0] += sigma * np.random.randn(self.d)\n",
    "            pc[sb][0] = self.in_domain(pc[sb][0])\n",
    "        return pc\n",
    "    \n",
    "    def mutation2(self, pc):\n",
    "        sigma = 0.25\n",
    "        S = np.random.uniform(0, sigma, self.d)\n",
    "        for sb in range(len(pc)):\n",
    "            pc[sb][0] += S * np.random.randn(self.d)\n",
    "            pc[sb][0] = self.in_domain(pc[sb][0])\n",
    "        return pc\n",
    "    \n",
    "    def mutation3(self, pc):\n",
    "        sigma = 0.25\n",
    "        S = np.random.uniform(0,sigma, size=(self.d, self.d))\n",
    "        S = np.dot(S,S.T)\n",
    "        b = np.dot(np.random.randn(self.mi, self.d), np.linalg.cholesky(S).T)\n",
    "        \n",
    "        for sb in range(len(pc)):\n",
    "            pc[sb][0] += b[sb]\n",
    "            pc[sb][0] = self.in_domain(pc[sb][0])\n",
    "        return pc\n",
    "    \n",
    "    def mutation4(self, pc):\n",
    "        # sprawdz czy miesci sie w dziedzinie\n",
    "        pcc = pc.copy()\n",
    "        for sb in range(len(pc)):\n",
    "            addition = np.exp(np.random.normal(0, self.tau ** 2, size=len(pc[sb][1])) + np.random.normal(0, self.tau0 ** 2))\n",
    "            # taus\n",
    "            pcc[sb][1] *= addition\n",
    "            \n",
    "            los = pcc[sb][0] + np.random.normal(0, pcc[sb][1] ** 2,size=self.d)\n",
    "            for _ in range(3):\n",
    "                if self.check_if_in_domain(los):\n",
    "                    break\n",
    "                los = pcc[sb][0] + np.random.normal(0, pcc[sb][1] ** 2,size=self.d)\n",
    "                \n",
    "            # jesli ciagle poza dziedzina\n",
    "            los = self.in_domain(los)\n",
    "            pcc[sb][0] = los\n",
    "        return pcc\n",
    "    \n",
    "    def replacement(self, pc):\n",
    "        # tu bedziemy zmieniac self.current_population\n",
    "        if self.es_type == \",\":\n",
    "            random_indices = np.random.choice(np.arange(0, len(pc)), size=len(self.current_population))\n",
    "            self.current_population[random_indices] = pc[random_indices]\n",
    "                \n",
    "        elif self.es_type == \"+\":\n",
    "            # wybierzmy najlepszych\n",
    "            all_values = np.append(self.current_values, np.array([self.F(i[0]) for i in pc]))\n",
    "            all_individuals = np.vstack((self.current_population, pc))\n",
    "            best_pop_id = np.argsort(all_values)\n",
    "            self.current_population = all_individuals[best_pop_id[:len(self.current_population)]]\n",
    "        \n",
    "    def run(self):\n",
    "        self.random_population()\n",
    "        self.population_evaluation()\n",
    "        \n",
    "        for i in range(self.max_iter):\n",
    "            pc = self.parent_selection()\n",
    "            pc = self.mutation(pc)\n",
    "            self.replacement(pc)\n",
    "            self.population_evaluation()\n",
    "            self.results = np.vstack((self.results, (self.current_values.mean(), self.current_values.min(),self.current_values.max())))\n",
    "            if self.debug and i%int(self.max_iter/10) == 0:\n",
    "                print(self.current_values.mean(), self.current_values.min(),self.current_values.max())\n",
    "        # tu zwrocic najlepszego osobnika z populacji\n",
    "        self.results = self.results[1:]\n",
    "        return self.current_population[np.argmin(self.current_values)]"
   ]
  },
  {
   "cell_type": "code",
   "execution_count": 62,
   "metadata": {},
   "outputs": [
    {
     "name": "stderr",
     "output_type": "stream",
     "text": [
      "100%|██████████████████████████████████████████████████████████████████████████████████| 20/20 [02:41<00:00,  8.08s/it]\n"
     ]
    },
    {
     "name": "stdout",
     "output_type": "stream",
     "text": [
      "\n",
      "Final MSE: 0.005455221185347054 and STD: 0.003208939828186717\n",
      "Wall time: 2min 43s\n"
     ]
    },
    {
     "data": {
      "image/png": "[encoded data removed]",
      "text/plain": [
       "<Figure size 720x720 with 1 Axes>"
      ]
     },
     "metadata": {
      "needs_background": "light"
     },
     "output_type": "display_data"
    }
   ],
   "source": [
    "%%time\n",
    "# MAIN EVOLUTION PROCESS\n",
    "d = 6\n",
    "N = 30\n",
    "T = 30\n",
    "\n",
    "ball = gaussian_models.G1Ball()\n",
    "stick = cylinder_models.C1Stick()\n",
    "bas_model = MultiCompartmentModel(models=[stick, ball])\n",
    "\n",
    "# IMAGE SELECTION\n",
    "\n",
    "our_bas_model = {}\n",
    "voxel_mse = np.zeros([roi['width'], roi['height']])\n",
    "\n",
    "for x in tqdm.tqdm(range(roi['width'])):\n",
    "    our_bas_model[x] = {}\n",
    "    for y in range(roi['height']):\n",
    "\n",
    "        voxel_signal = data_hcp_roi[x, 0, y, :]\n",
    "        es_plus = ES(R=domain_dict_to_array(bas_model.parameter_ranges), d=d, mi=N, lambda_=2,\n",
    "                                               F=lambda ch: single_voxel_function(ch, bas_model, scheme_hcp, voxel_signal),\n",
    "                                               max_iter=T,learning_rate=0.2,debug=False, ES_type=\"+\")\n",
    "        best_chromosome = es_plus.run()\n",
    "\n",
    "        our_bas_model[x][y] = set_params_from_chrom(best_chromosome[0], bas_model, scheme_hcp, voxel_signal)\n",
    "\n",
    "        voxel_mse[x][y] = our_bas_model[x][y].mean_squared_error(voxel_signal)\n",
    "\n",
    "print()\n",
    "print(f'Final MSE: {np.mean(voxel_mse)} and STD: {np.std(voxel_mse)}')\n",
    "visualize_result(our_bas_model)"
   ]
  },
  {
   "cell_type": "code",
   "execution_count": 63,
   "metadata": {},
   "outputs": [
    {
     "name": "stderr",
     "output_type": "stream",
     "text": [
      "100%|██████████████████████████████████████████████████████████████████████████████████| 20/20 [07:43<00:00, 23.16s/it]\n"
     ]
    },
    {
     "name": "stdout",
     "output_type": "stream",
     "text": [
      "\n",
      "Final MSE: 0.004490899604099757 and STD: 0.002587459756361988\n",
      "Wall time: 7min 44s\n"
     ]
    },
    {
     "data": {
      "image/png": "[encoded data removed]",
      "text/plain": [
       "<Figure size 720x720 with 1 Axes>"
      ]
     },
     "metadata": {
      "needs_background": "light"
     },
     "output_type": "display_data"
    }
   ],
   "source": [
    "%%time\n",
    "# MAIN EVOLUTION PROCESS\n",
    "d = 6\n",
    "N = 30\n",
    "T = 30\n",
    "\n",
    "ball = gaussian_models.G1Ball()\n",
    "stick = cylinder_models.C1Stick()\n",
    "bas_model = MultiCompartmentModel(models=[stick, ball])\n",
    "\n",
    "# IMAGE SELECTION\n",
    "\n",
    "our_bas_model = {}\n",
    "voxel_mse = np.zeros([roi['width'], roi['height']])\n",
    "\n",
    "for x in tqdm.tqdm(range(roi['width'])):\n",
    "    our_bas_model[x] = {}\n",
    "    for y in range(roi['height']):\n",
    "\n",
    "        voxel_signal = data_hcp_roi[x, 0, y, :]\n",
    "        es_plus = ES(R=domain_dict_to_array(bas_model.parameter_ranges), d=d, mi=3*N, lambda_=2,\n",
    "                                               F=lambda ch: single_voxel_function(ch, bas_model, scheme_hcp, voxel_signal),\n",
    "                                               max_iter=T,learning_rate=0.2,debug=False, ES_type=\"+\")\n",
    "        best_chromosome = es_plus.run()\n",
    "\n",
    "        our_bas_model[x][y] = set_params_from_chrom(best_chromosome[0], bas_model, scheme_hcp, voxel_signal)\n",
    "\n",
    "        voxel_mse[x][y] = our_bas_model[x][y].mean_squared_error(voxel_signal)\n",
    "\n",
    "print()\n",
    "print(f'Final MSE: {np.mean(voxel_mse)} and STD: {np.std(voxel_mse)}')\n",
    "visualize_result(our_bas_model)"
   ]
  },
  {
   "cell_type": "code",
   "execution_count": 64,
   "metadata": {},
   "outputs": [
    {
     "name": "stderr",
     "output_type": "stream",
     "text": [
      "100%|██████████████████████████████████████████████████████████████████████████████████| 20/20 [14:12<00:00, 42.63s/it]\n"
     ]
    },
    {
     "name": "stdout",
     "output_type": "stream",
     "text": [
      "\n",
      "Final MSE: 0.004077936665051293 and STD: 0.002308571470225758\n",
      "Wall time: 14min 13s\n"
     ]
    },
    {
     "data": {
      "image/png": "[encoded data removed]",
      "text/plain": [
       "<Figure size 720x720 with 1 Axes>"
      ]
     },
     "metadata": {
      "needs_background": "light"
     },
     "output_type": "display_data"
    }
   ],
   "source": [
    "%%time\n",
    "# MAIN EVOLUTION PROCESS\n",
    "d = 6\n",
    "N = 100\n",
    "T = 50\n",
    "\n",
    "ball = gaussian_models.G1Ball()\n",
    "stick = cylinder_models.C1Stick()\n",
    "bas_model = MultiCompartmentModel(models=[stick, ball])\n",
    "\n",
    "# IMAGE SELECTION\n",
    "\n",
    "our_bas_model = {}\n",
    "voxel_mse = np.zeros([roi['width'], roi['height']])\n",
    "\n",
    "for x in tqdm.tqdm(range(roi['width'])):\n",
    "    our_bas_model[x] = {}\n",
    "    for y in range(roi['height']):\n",
    "\n",
    "        voxel_signal = data_hcp_roi[x, 0, y, :]\n",
    "        es_plus = ES(R=domain_dict_to_array(bas_model.parameter_ranges), d=d, mi=N, lambda_=2,\n",
    "                                               F=lambda ch: single_voxel_function(ch, bas_model, scheme_hcp, voxel_signal),\n",
    "                                               max_iter=T,learning_rate=0.2,debug=False, ES_type=\"+\")\n",
    "        best_chromosome = es_plus.run()\n",
    "\n",
    "        our_bas_model[x][y] = set_params_from_chrom(best_chromosome[0], bas_model, scheme_hcp, voxel_signal)\n",
    "\n",
    "        voxel_mse[x][y] = our_bas_model[x][y].mean_squared_error(voxel_signal)\n",
    "\n",
    "print()\n",
    "print(f'Final MSE: {np.mean(voxel_mse)} and STD: {np.std(voxel_mse)}')\n",
    "visualize_result(our_bas_model)"
   ]
  },
  {
   "cell_type": "code",
   "execution_count": 65,
   "metadata": {},
   "outputs": [
    {
     "name": "stderr",
     "output_type": "stream",
     "text": [
      "100%|██████████████████████████████████████████████████████████████████████████████████| 20/20 [06:01<00:00, 18.05s/it]\n"
     ]
    },
    {
     "name": "stdout",
     "output_type": "stream",
     "text": [
      "\n",
      "Final MSE: 0.004888984037008854 and STD: 0.0029173521268566383\n",
      "Wall time: 6min 2s\n"
     ]
    },
    {
     "data": {
      "image/png": "[encoded data removed]",
      "text/plain": [
       "<Figure size 720x720 with 1 Axes>"
      ]
     },
     "metadata": {
      "needs_background": "light"
     },
     "output_type": "display_data"
    }
   ],
   "source": [
    "%%time\n",
    "# MAIN EVOLUTION PROCESS\n",
    "d = 6\n",
    "N = 30\n",
    "T = 30\n",
    "\n",
    "ball = gaussian_models.G1Ball()\n",
    "stick = cylinder_models.C1Stick()\n",
    "bas_model = MultiCompartmentModel(models=[stick, ball])\n",
    "\n",
    "# IMAGE SELECTION\n",
    "\n",
    "our_bas_model = {}\n",
    "voxel_mse = np.zeros([roi['width'], roi['height']])\n",
    "\n",
    "for x in tqdm.tqdm(range(roi['width'])):\n",
    "    our_bas_model[x] = {}\n",
    "    for y in range(roi['height']):\n",
    "\n",
    "        voxel_signal = data_hcp_roi[x, 0, y, :]\n",
    "        es_plus = ES(R=domain_dict_to_array(bas_model.parameter_ranges), d=d, mi=2*N, lambda_=2,\n",
    "                                               F=lambda ch: single_voxel_function(ch, bas_model, scheme_hcp, voxel_signal),\n",
    "                                               max_iter=T,learning_rate=0.05,debug=False, ES_type=\"+\")\n",
    "        best_chromosome = es_plus.run()\n",
    "\n",
    "        our_bas_model[x][y] = set_params_from_chrom(best_chromosome[0], bas_model, scheme_hcp, voxel_signal)\n",
    "\n",
    "        voxel_mse[x][y] = our_bas_model[x][y].mean_squared_error(voxel_signal)\n",
    "\n",
    "print()\n",
    "print(f'Final MSE: {np.mean(voxel_mse)} and STD: {np.std(voxel_mse)}')\n",
    "visualize_result(our_bas_model)"
   ]
  },
  {
   "cell_type": "code",
   "execution_count": 69,
   "metadata": {},
   "outputs": [
    {
     "name": "stderr",
     "output_type": "stream",
     "text": [
      "100%|██████████████████████████████████████████████████████████████████████████████████| 20/20 [04:58<00:00, 14.94s/it]"
     ]
    },
    {
     "name": "stdout",
     "output_type": "stream",
     "text": [
      "\n",
      "Final MSE: 0.004818101664618652 and STD: 0.002736844766123639\n",
      "Wall time: 4min 58s\n"
     ]
    },
    {
     "name": "stderr",
     "output_type": "stream",
     "text": [
      "\n"
     ]
    }
   ],
   "source": [
    "%%time\n",
    "# MAIN EVOLUTION PROCESS\n",
    "d = 6\n",
    "N = 30\n",
    "T = 30\n",
    "\n",
    "ball = gaussian_models.G1Ball()\n",
    "stick = cylinder_models.C1Stick()\n",
    "bas_model = MultiCompartmentModel(models=[stick, ball])\n",
    "\n",
    "# IMAGE SELECTION\n",
    "\n",
    "our_bas_model = {}\n",
    "voxel_mse = np.zeros([roi['width'], roi['height']])\n",
    "\n",
    "for x in tqdm.tqdm(range(roi['width'])):\n",
    "    our_bas_model[x] = {}\n",
    "    for y in range(roi['height']):\n",
    "\n",
    "        voxel_signal = data_hcp_roi[x, 0, y, :]\n",
    "        es_plus = ES(R=domain_dict_to_array(bas_model.parameter_ranges), d=d, mi=2*N, lambda_=2,\n",
    "                                               F=lambda ch: single_voxel_function(ch, bas_model, scheme_hcp, voxel_signal),\n",
    "                                               max_iter=T,learning_rate=0.05,debug=False, ES_type=\"+\")\n",
    "        best_chromosome = es_plus.run()\n",
    "\n",
    "        our_bas_model[x][y] = set_params_from_chrom(best_chromosome[0], bas_model, scheme_hcp, voxel_signal)\n",
    "\n",
    "        voxel_mse[x][y] = our_bas_model[x][y].mean_squared_error(voxel_signal)\n",
    "\n",
    "print()\n",
    "print(f'Final MSE: {np.mean(voxel_mse)} and STD: {np.std(voxel_mse)}')\n",
    "# visualize_result(our_bas_model)"
   ]
  },
  {
   "cell_type": "code",
   "execution_count": 79,
   "metadata": {},
   "outputs": [
    {
     "name": "stderr",
     "output_type": "stream",
     "text": [
      "100%|██████████████████████████████████████████████████████████████████████████████████| 20/20 [04:40<00:00, 14.03s/it]"
     ]
    },
    {
     "name": "stdout",
     "output_type": "stream",
     "text": [
      "\n",
      "Final MSE: 0.004262452379051232 and STD: 0.0020617766348149597\n",
      "Wall time: 4min 40s\n"
     ]
    },
    {
     "name": "stderr",
     "output_type": "stream",
     "text": [
      "\n"
     ]
    }
   ],
   "source": [
    "%%time\n",
    "# MAIN EVOLUTION PROCESS\n",
    "d = 6\n",
    "N = 30\n",
    "T = 30\n",
    "\n",
    "ball = gaussian_models.G1Ball()\n",
    "stick = cylinder_models.C1Stick()\n",
    "bas_model = MultiCompartmentModel(models=[stick, ball])\n",
    "\n",
    "# IMAGE SELECTION\n",
    "\n",
    "our_bas_model = {}\n",
    "voxel_mse = np.zeros([roi['width'], roi['height']])\n",
    "\n",
    "for x in tqdm.tqdm(range(roi['width'])):\n",
    "    our_bas_model[x] = {}\n",
    "    for y in range(roi['height']):\n",
    "\n",
    "        voxel_signal = data_hcp_roi[x, 0, y, :]\n",
    "        es_plus = ES(R=domain_dict_to_array(bas_model.parameter_ranges), d=d, mi=2*N, lambda_=2,\n",
    "                                               F=lambda ch: single_voxel_function(ch, bas_model, scheme_hcp, voxel_signal),\n",
    "                                               max_iter=T,learning_rate=0.05,debug=False, ES_type=\"+\", mutation_type=\"1\")\n",
    "        best_chromosome = es_plus.run()\n",
    "\n",
    "        our_bas_model[x][y] = set_params_from_chrom(best_chromosome[0], bas_model, scheme_hcp, voxel_signal)\n",
    "\n",
    "        voxel_mse[x][y] = our_bas_model[x][y].mean_squared_error(voxel_signal)\n",
    "\n",
    "print()\n",
    "print(f'Final MSE: {np.mean(voxel_mse)} and STD: {np.std(voxel_mse)}')\n",
    "# visualize_result(our_bas_model)"
   ]
  },
  {
   "cell_type": "code",
   "execution_count": 81,
   "metadata": {},
   "outputs": [
    {
     "name": "stderr",
     "output_type": "stream",
     "text": [
      "100%|██████████████████████████████████████████████████████████████████████████████████| 20/20 [04:38<00:00, 13.93s/it]"
     ]
    },
    {
     "name": "stdout",
     "output_type": "stream",
     "text": [
      "\n",
      "Final MSE: 0.003965303109202681 and STD: 0.0019854218964623907\n",
      "Wall time: 4min 38s\n"
     ]
    },
    {
     "name": "stderr",
     "output_type": "stream",
     "text": [
      "\n"
     ]
    }
   ],
   "source": [
    "%%time\n",
    "# MAIN EVOLUTION PROCESS\n",
    "d = 6\n",
    "N = 30\n",
    "T = 30\n",
    "\n",
    "ball = gaussian_models.G1Ball()\n",
    "stick = cylinder_models.C1Stick()\n",
    "bas_model = MultiCompartmentModel(models=[stick, ball])\n",
    "\n",
    "# IMAGE SELECTION\n",
    "\n",
    "our_bas_model = {}\n",
    "voxel_mse = np.zeros([roi['width'], roi['height']])\n",
    "\n",
    "for x in tqdm.tqdm(range(roi['width'])):\n",
    "    our_bas_model[x] = {}\n",
    "    for y in range(roi['height']):\n",
    "\n",
    "        voxel_signal = data_hcp_roi[x, 0, y, :]\n",
    "        es_plus = ES(R=domain_dict_to_array(bas_model.parameter_ranges), d=d, mi=2*N, lambda_=2,\n",
    "                                               F=lambda ch: single_voxel_function(ch, bas_model, scheme_hcp, voxel_signal),\n",
    "                                               max_iter=T,learning_rate=0.05,debug=False, ES_type=\"+\", mutation_type=\"2\")\n",
    "        best_chromosome = es_plus.run()\n",
    "\n",
    "        our_bas_model[x][y] = set_params_from_chrom(best_chromosome[0], bas_model, scheme_hcp, voxel_signal)\n",
    "\n",
    "        voxel_mse[x][y] = our_bas_model[x][y].mean_squared_error(voxel_signal)\n",
    "\n",
    "print()\n",
    "print(f'Final MSE: {np.mean(voxel_mse)} and STD: {np.std(voxel_mse)}')\n",
    "# visualize_result(our_bas_model)"
   ]
  },
  {
   "cell_type": "code",
   "execution_count": 85,
   "metadata": {},
   "outputs": [
    {
     "name": "stderr",
     "output_type": "stream",
     "text": [
      "100%|██████████████████████████████████████████████████████████████████████████████████| 20/20 [04:26<00:00, 13.34s/it]"
     ]
    },
    {
     "name": "stdout",
     "output_type": "stream",
     "text": [
      "\n",
      "Final MSE: 0.004525849771626686 and STD: 0.0021502273789223937\n",
      "Wall time: 4min 26s\n"
     ]
    },
    {
     "name": "stderr",
     "output_type": "stream",
     "text": [
      "\n"
     ]
    }
   ],
   "source": [
    "%%time\n",
    "# MAIN EVOLUTION PROCESS\n",
    "d = 6\n",
    "N = 30\n",
    "T = 30\n",
    "\n",
    "ball = gaussian_models.G1Ball()\n",
    "stick = cylinder_models.C1Stick()\n",
    "bas_model = MultiCompartmentModel(models=[stick, ball])\n",
    "\n",
    "# IMAGE SELECTION\n",
    "\n",
    "our_bas_model = {}\n",
    "voxel_mse = np.zeros([roi['width'], roi['height']])\n",
    "\n",
    "for x in tqdm.tqdm(range(roi['width'])):\n",
    "    our_bas_model[x] = {}\n",
    "    for y in range(roi['height']):\n",
    "\n",
    "        voxel_signal = data_hcp_roi[x, 0, y, :]\n",
    "        es_plus = ES(R=domain_dict_to_array(bas_model.parameter_ranges), d=d, mi=2*N, lambda_=2,\n",
    "                                               F=lambda ch: single_voxel_function(ch, bas_model, scheme_hcp, voxel_signal),\n",
    "                                               max_iter=T,learning_rate=0.05,debug=False, ES_type=\"+\", mutation_type=\"3\")\n",
    "        best_chromosome = es_plus.run()\n",
    "\n",
    "        our_bas_model[x][y] = set_params_from_chrom(best_chromosome[0], bas_model, scheme_hcp, voxel_signal)\n",
    "\n",
    "        voxel_mse[x][y] = our_bas_model[x][y].mean_squared_error(voxel_signal)\n",
    "\n",
    "print()\n",
    "print(f'Final MSE: {np.mean(voxel_mse)} and STD: {np.std(voxel_mse)}')\n",
    "# visualize_result(our_bas_model)"
   ]
  },
  {
   "cell_type": "code",
   "execution_count": 86,
   "metadata": {},
   "outputs": [
    {
     "name": "stderr",
     "output_type": "stream",
     "text": [
      "100%|██████████████████████████████████████████████████████████████████████████████████| 20/20 [05:15<00:00, 15.75s/it]"
     ]
    },
    {
     "name": "stdout",
     "output_type": "stream",
     "text": [
      "\n",
      "Final MSE: 0.004818152983653131 and STD: 0.002733061134727278\n",
      "Wall time: 5min 15s\n"
     ]
    },
    {
     "name": "stderr",
     "output_type": "stream",
     "text": [
      "\n"
     ]
    }
   ],
   "source": [
    "%%time\n",
    "# MAIN EVOLUTION PROCESS\n",
    "d = 6\n",
    "N = 30\n",
    "T = 30\n",
    "\n",
    "ball = gaussian_models.G1Ball()\n",
    "stick = cylinder_models.C1Stick()\n",
    "bas_model = MultiCompartmentModel(models=[stick, ball])\n",
    "\n",
    "# IMAGE SELECTION\n",
    "\n",
    "our_bas_model = {}\n",
    "voxel_mse = np.zeros([roi['width'], roi['height']])\n",
    "\n",
    "for x in tqdm.tqdm(range(roi['width'])):\n",
    "    our_bas_model[x] = {}\n",
    "    for y in range(roi['height']):\n",
    "\n",
    "        voxel_signal = data_hcp_roi[x, 0, y, :]\n",
    "        es_plus = ES(R=domain_dict_to_array(bas_model.parameter_ranges), d=d, mi=2*N, lambda_=2,\n",
    "                                               F=lambda ch: single_voxel_function(ch, bas_model, scheme_hcp, voxel_signal),\n",
    "                                               max_iter=T,learning_rate=0.05,debug=False, ES_type=\"+\", mutation_type=\"4\")\n",
    "        best_chromosome = es_plus.run()\n",
    "\n",
    "        our_bas_model[x][y] = set_params_from_chrom(best_chromosome[0], bas_model, scheme_hcp, voxel_signal)\n",
    "\n",
    "        voxel_mse[x][y] = our_bas_model[x][y].mean_squared_error(voxel_signal)\n",
    "\n",
    "print()\n",
    "print(f'Final MSE: {np.mean(voxel_mse)} and STD: {np.std(voxel_mse)}')\n",
    "# visualize_result(our_bas_model)"
   ]
  },
  {
   "cell_type": "markdown",
   "metadata": {},
   "source": [
    "# TODO:\n",
    "- CMA-ES\n",
    "- inne obchodzenie się z osobikami spoza dziedziny\n",
    "- mój ES można przyspieszyć"
   ]
  },
  {
   "cell_type": "code",
   "execution_count": null,
   "metadata": {},
   "outputs": [],
   "source": [
    "# class CMA_ES():\n",
    "#     def __init__(self, R, F, parents, offspring, max_iter=100):\n",
    "#         self.d = 6\n",
    "#         self.parents_size = parents # parents\n",
    "#         self.offspring_size = offspring # offspring\n",
    "#         self.sigma = 1 # 0.3 # step size\n",
    "#         self.m = np.zeros(self.d)\n",
    "#         self.C = np.zeros((self.d,self.d)) + 1\n",
    "#         self.p_sigma = 0 # (isotropic evolution path)\n",
    "#         self.p_C = 0 # (anisotropic evolution path)\n",
    "#         self.F = F\n",
    "#         self.max_iter = max_iter\n",
    "        \n",
    "#         self.R = R\n",
    "#         self.current_population = []\n",
    "#         self.current_values = []\n",
    "    \n",
    "#     def in_domain(self, chrom):\n",
    "#         for p in range(len(chrom)):\n",
    "#             if not self.R[p][0] < chrom[p] < self.R[p][1]:\n",
    "#                 chrom[p] = np.random.uniform(self.R[p][0],self.R[p][1])\n",
    "#         return chrom\n",
    "        \n",
    "#     def check_if_in_domain(self, chrom):\n",
    "#         for p in range(len(chrom)):\n",
    "#             if not self.R[p][0] < chrom[p] < self.R[p][1]:\n",
    "#                 return False\n",
    "#         return True\n",
    "        \n",
    "#     def random_population(self):\n",
    "#         self.current_population = np.zeros((self.parents_size, 2, self.d))\n",
    "#         for pop in range(self.parents_size):\n",
    "#             for p in range(self.d):\n",
    "#                 self.current_population[pop][0][p] = np.random.uniform(self.R[p][0],self.R[p][1])\n",
    "#                 self.current_population[pop][1][p] = np.random.uniform(self.R[p][0],self.R[p][1])\n",
    "#         self.current_values = np.zeros((self.parents_size, 1))\n",
    "        \n",
    "#     def new_population(self):\n",
    "        \n",
    "    \n",
    "#     def population_evaluation(self):\n",
    "#         # arg: self.current_population, self.F\n",
    "#         for i,sb in enumerate(self.current_population):\n",
    "#             self.current_values[i] = self.F(sb[0])\n",
    "    \n",
    "#     def parent_selection(self):        \n",
    "#         # roulette method\n",
    "#         costs = np.array([self.F(i[0]) for i in self.current_population])\n",
    "#         costs = costs.reshape(-1)\n",
    "#         fitness_values = costs - costs.min()\n",
    "#         if fitness_values.sum() > 0:\n",
    "#             fitness_values = fitness_values / fitness_values.sum()\n",
    "#         else:\n",
    "#             fitness_values = 1.0 / self.parents_size * np.ones(self.parents_size)\n",
    "#         parent_indices = np.random.choice(len(self.current_population), size=len(self.current_population), replace=True,p=fitness_values).astype(np.int64)\n",
    "#         return self.current_population[parent_indices]\n",
    "    \n",
    "#     def cumulative_step_size_adaptation(self):\n",
    "#         pass\n",
    "    \n",
    "#     def covariance_matrix_adaptation(self):\n",
    "#         pass\n",
    "    \n",
    "#     def mutation(self, pc):\n",
    "#         for sb in range(len(pc)):\n",
    "#             sigma = 0.25\n",
    "#             pc[sb][0] += sigma * np.random.randn(self.d)\n",
    "#             pc[sb][0] = self.in_domain(pc[sb][0])\n",
    "#         return pc\n",
    "    \n",
    "#     def replacement(self, pc):\n",
    "#         # wybierzmy najlepszych\n",
    "#         all_values = np.append(self.current_values, np.array([self.F(i[0]) for i in pc]))\n",
    "#         all_individuals = np.vstack((self.current_population, pc))\n",
    "#         best_pop_id = np.argsort(all_values)\n",
    "#         self.current_population = all_individuals[best_pop_id[:len(self.current_population)]]\n",
    "        \n",
    "#     def run(self):\n",
    "#         self.random_population()\n",
    "#         self.population_evaluation()\n",
    "        \n",
    "#         for i in range(self.max_iter):\n",
    "#             self.cumulative_step_size_adaptation()\n",
    "\n",
    "#             self.population_evaluation()\n",
    "#         # tu zwrocic najlepszego osobnika z populacji\n",
    "#         return self.current_population[np.argmin(self.current_values)]"
   ]
  },
  {
   "cell_type": "code",
   "execution_count": 38,
   "metadata": {},
   "outputs": [],
   "source": [
    "class CMA_ES():\n",
    "    def __init__(self, R, F, d, parents, offspring, max_iter=100):\n",
    "        self.d = d\n",
    "        self.parents_size = parents # parents\n",
    "        self.offspring_size = offspring # offspring\n",
    "        self.sigma = 1 # 0.3 # step size\n",
    "        self.m = np.zeros(self.d)\n",
    "        self.C = np.identity(self.d)\n",
    "        self.p_sigma = 0 # (isotropic evolution path)\n",
    "        self.p_C = 0 # (anisotropic evolution path)\n",
    "        self.F = F\n",
    "        self.max_iter = max_iter\n",
    "        \n",
    "        self.R = R\n",
    "        self.current_population = []\n",
    "        self.current_values = np.zeros((self.parents_size))\n",
    "        \n",
    "        self.previous_cost = 100\n",
    "    \n",
    "    def in_domain(self, chrom):\n",
    "        for p in range(len(chrom)):\n",
    "            if not self.R[p][0] < chrom[p] < self.R[p][1]:\n",
    "                chrom[p] = np.random.uniform(self.R[p][0],self.R[p][1])\n",
    "        return chrom\n",
    "        \n",
    "    def check_if_in_domain(self, chrom):\n",
    "        for p in range(len(chrom)):\n",
    "            if not self.R[p][0] < chrom[p] < self.R[p][1]:\n",
    "                return False\n",
    "        return True\n",
    "        \n",
    "    def random_population(self):\n",
    "        self.current_population = np.zeros((self.parents_size, self.d))\n",
    "        for pop in range(self.parents_size):\n",
    "            self.current_population[pop] = np.random.multivariate_normal(self.m,self.sigma**2*self.C)\n",
    "            assert len(self.current_population[pop]) == self.d\n",
    "            self.in_domain(self.current_population[pop])\n",
    "            \n",
    "    def parent_selection(self):        \n",
    "        # roulette method\n",
    "        costs = self.current_values\n",
    "        costs = costs.reshape(-1)\n",
    "        fitness_values = costs - costs.min()\n",
    "        if fitness_values.sum() > 0:\n",
    "            fitness_values = fitness_values / fitness_values.sum()\n",
    "        else:\n",
    "            fitness_values = 1.0 / self.parents_size * np.ones(self.parents_size)\n",
    "        parent_indices = np.random.choice(len(self.current_population), size=self.offspring_size, replace=True,p=fitness_values).astype(np.int64)\n",
    "        return self.current_population[parent_indices]\n",
    "        \n",
    "    \n",
    "    def population_evaluation(self):\n",
    "        # arg: self.current_population, self.F\n",
    "        self.previous_cost = np.mean(self.current_values)\n",
    "        better_counter = 0\n",
    "        for i,sb in enumerate(self.current_population):\n",
    "            self.current_values[i] = self.F(sb)\n",
    "            if self.current_values[i] > self.previous_cost:\n",
    "                better_counter += 1\n",
    "        # 1/5th rule\n",
    "        self.sigma = self.sigma * np.exp(1/3 * (better_counter/self.parents_size - 0.2)/(1 - 0.2))\n",
    "    \n",
    "    def cumulative_step_size_adaptation(self, pc):\n",
    "        c_sigma = 4/self.d\n",
    "        d_sigma = 0.99\n",
    "        y = pc.mean(axis=0) # TODO srednia wazona\n",
    "        assert len(y) == self.d\n",
    "        self.m = self.m + self.sigma*y\n",
    "        \n",
    "        self.p_sigma = (1-c_sigma)*self.p_sigma + np.sqrt(1 - (1- c_sigma)**2)*y #np.sqrt()\n",
    "        \n",
    "        self.sigma = self.sigma*np.exp(c_sigma/d_sigma * np.linalg.norm(self.p_sigma)/np.mean(np.linalg.norm(np.random.multivariate_normal(np.zeros(self.d), np.identity(self.d)))))\n",
    "    \n",
    "    def covariance_matrix_adaptation(self, pc):\n",
    "        c_cov = 2/self.d**2\n",
    "        \n",
    "        y = pc.mean(axis=0) # TODO srednia wazona\n",
    "        assert len(y) == self.d\n",
    "        self.m = self.m + self.sigma*y\n",
    "        \n",
    "        self.C = (1-c_cov) * self.C + c_cov*y*y.T\n",
    "        \n",
    "    def run(self):\n",
    "        self.random_population()\n",
    "        self.population_evaluation()\n",
    "        \n",
    "        for i in range(self.max_iter):\n",
    "            pc = self.parent_selection()\n",
    "            self.cumulative_step_size_adaptation(pc)\n",
    "            self.covariance_matrix_adaptation(pc)\n",
    "            self.random_population()\n",
    "            self.population_evaluation()\n",
    "        # tu zwrocic najlepszego osobnika z populacji\n",
    "        return self.current_population[np.argmin(self.current_values)]"
   ]
  },
  {
   "cell_type": "code",
   "execution_count": 29,
   "metadata": {},
   "outputs": [
    {
     "name": "stderr",
     "output_type": "stream",
     "text": [
      "100%|██████████████████████████████████████████████████████████████████████████████████| 20/20 [01:38<00:00,  4.93s/it]"
     ]
    },
    {
     "name": "stdout",
     "output_type": "stream",
     "text": [
      "\n",
      "Final MSE: 0.01538196315397824 and STD: 0.009726923732055573\n",
      "Wall time: 1min 38s\n"
     ]
    },
    {
     "name": "stderr",
     "output_type": "stream",
     "text": [
      "\n"
     ]
    }
   ],
   "source": [
    "%%time\n",
    "# MAIN EVOLUTION PROCESS\n",
    "d = 6\n",
    "N = 30\n",
    "T = 30\n",
    "\n",
    "ball = gaussian_models.G1Ball()\n",
    "stick = cylinder_models.C1Stick()\n",
    "bas_model = MultiCompartmentModel(models=[stick, ball])\n",
    "\n",
    "# IMAGE SELECTION\n",
    "\n",
    "our_bas_model = {}\n",
    "voxel_mse = np.zeros([roi['width'], roi['height']])\n",
    "\n",
    "for x in tqdm.tqdm(range(roi['width'])):\n",
    "    our_bas_model[x] = {}\n",
    "    for y in range(roi['height']):\n",
    "\n",
    "        voxel_signal = data_hcp_roi[x, 0, y, :]\n",
    "        es_plus = CMA_ES(R=domain_dict_to_array(bas_model.parameter_ranges), d=d, parents=N, offspring=int(N/2),\n",
    "                                               F=lambda ch: single_voxel_function(ch, bas_model, scheme_hcp, voxel_signal),\n",
    "                                               max_iter=T)\n",
    "        best_chromosome = es_plus.run()\n",
    "\n",
    "        our_bas_model[x][y] = set_params_from_chrom(best_chromosome, bas_model, scheme_hcp, voxel_signal)\n",
    "\n",
    "        voxel_mse[x][y] = our_bas_model[x][y].mean_squared_error(voxel_signal)\n",
    "\n",
    "print()\n",
    "print(f'Final MSE: {np.mean(voxel_mse)} and STD: {np.std(voxel_mse)}')\n",
    "# visualize_result(our_bas_model)"
   ]
  },
  {
   "cell_type": "code",
   "execution_count": 30,
   "metadata": {},
   "outputs": [
    {
     "name": "stderr",
     "output_type": "stream",
     "text": [
      "100%|██████████████████████████████████████████████████████████████████████████████████| 20/20 [06:11<00:00, 18.57s/it]"
     ]
    },
    {
     "name": "stdout",
     "output_type": "stream",
     "text": [
      "\n",
      "Final MSE: 0.011655905065779498 and STD: 0.006839283323901482\n",
      "Wall time: 6min 11s\n"
     ]
    },
    {
     "name": "stderr",
     "output_type": "stream",
     "text": [
      "\n"
     ]
    }
   ],
   "source": [
    "%%time\n",
    "# MAIN EVOLUTION PROCESS\n",
    "d = 6\n",
    "N = 60\n",
    "T = 60\n",
    "\n",
    "ball = gaussian_models.G1Ball()\n",
    "stick = cylinder_models.C1Stick()\n",
    "bas_model = MultiCompartmentModel(models=[stick, ball])\n",
    "\n",
    "# IMAGE SELECTION\n",
    "\n",
    "our_bas_model = {}\n",
    "voxel_mse = np.zeros([roi['width'], roi['height']])\n",
    "\n",
    "for x in tqdm.tqdm(range(roi['width'])):\n",
    "    our_bas_model[x] = {}\n",
    "    for y in range(roi['height']):\n",
    "\n",
    "        voxel_signal = data_hcp_roi[x, 0, y, :]\n",
    "        es_plus = CMA_ES(R=domain_dict_to_array(bas_model.parameter_ranges), d=d, parents=N, offspring=int(N/2),\n",
    "                                               F=lambda ch: single_voxel_function(ch, bas_model, scheme_hcp, voxel_signal),\n",
    "                                               max_iter=T)\n",
    "        best_chromosome = es_plus.run()\n",
    "\n",
    "        our_bas_model[x][y] = set_params_from_chrom(best_chromosome, bas_model, scheme_hcp, voxel_signal)\n",
    "\n",
    "        voxel_mse[x][y] = our_bas_model[x][y].mean_squared_error(voxel_signal)\n",
    "\n",
    "print()\n",
    "print(f'Final MSE: {np.mean(voxel_mse)} and STD: {np.std(voxel_mse)}')\n",
    "# visualize_result(our_bas_model)"
   ]
  },
  {
   "cell_type": "code",
   "execution_count": 31,
   "metadata": {},
   "outputs": [
    {
     "name": "stderr",
     "output_type": "stream",
     "text": [
      "100%|██████████████████████████████████████████████████████████████████████████████████| 20/20 [08:25<00:00, 25.27s/it]"
     ]
    },
    {
     "name": "stdout",
     "output_type": "stream",
     "text": [
      "\n",
      "Final MSE: 0.010284609788496275 and STD: 0.006412225438409856\n",
      "Wall time: 8min 25s\n"
     ]
    },
    {
     "name": "stderr",
     "output_type": "stream",
     "text": [
      "\n"
     ]
    }
   ],
   "source": [
    "%%time\n",
    "# MAIN EVOLUTION PROCESS\n",
    "d = 6\n",
    "N = 100\n",
    "T = 50\n",
    "\n",
    "ball = gaussian_models.G1Ball()\n",
    "stick = cylinder_models.C1Stick()\n",
    "bas_model = MultiCompartmentModel(models=[stick, ball])\n",
    "\n",
    "# IMAGE SELECTION\n",
    "\n",
    "our_bas_model = {}\n",
    "voxel_mse = np.zeros([roi['width'], roi['height']])\n",
    "\n",
    "for x in tqdm.tqdm(range(roi['width'])):\n",
    "    our_bas_model[x] = {}\n",
    "    for y in range(roi['height']):\n",
    "\n",
    "        voxel_signal = data_hcp_roi[x, 0, y, :]\n",
    "        es_plus = CMA_ES(R=domain_dict_to_array(bas_model.parameter_ranges), d=d, parents=N, offspring=int(N/2),\n",
    "                                               F=lambda ch: single_voxel_function(ch, bas_model, scheme_hcp, voxel_signal),\n",
    "                                               max_iter=T)\n",
    "        best_chromosome = es_plus.run()\n",
    "\n",
    "        our_bas_model[x][y] = set_params_from_chrom(best_chromosome, bas_model, scheme_hcp, voxel_signal)\n",
    "\n",
    "        voxel_mse[x][y] = our_bas_model[x][y].mean_squared_error(voxel_signal)\n",
    "\n",
    "print()\n",
    "print(f'Final MSE: {np.mean(voxel_mse)} and STD: {np.std(voxel_mse)}')\n",
    "# visualize_result(our_bas_model)"
   ]
  },
  {
   "cell_type": "code",
   "execution_count": 32,
   "metadata": {},
   "outputs": [
    {
     "name": "stderr",
     "output_type": "stream",
     "text": [
      "100%|██████████████████████████████████████████████████████████████████████████████████| 20/20 [03:36<00:00, 10.80s/it]"
     ]
    },
    {
     "name": "stdout",
     "output_type": "stream",
     "text": [
      "\n",
      "Final MSE: 0.017754927191985407 and STD: 0.010763840300897876\n",
      "Wall time: 3min 36s\n"
     ]
    },
    {
     "name": "stderr",
     "output_type": "stream",
     "text": [
      "\n"
     ]
    }
   ],
   "source": [
    "%%time\n",
    "# MAIN EVOLUTION PROCESS\n",
    "d = 6\n",
    "N = 20\n",
    "T = 100\n",
    "\n",
    "ball = gaussian_models.G1Ball()\n",
    "stick = cylinder_models.C1Stick()\n",
    "bas_model = MultiCompartmentModel(models=[stick, ball])\n",
    "\n",
    "# IMAGE SELECTION\n",
    "\n",
    "our_bas_model = {}\n",
    "voxel_mse = np.zeros([roi['width'], roi['height']])\n",
    "\n",
    "for x in tqdm.tqdm(range(roi['width'])):\n",
    "    our_bas_model[x] = {}\n",
    "    for y in range(roi['height']):\n",
    "\n",
    "        voxel_signal = data_hcp_roi[x, 0, y, :]\n",
    "        es_plus = CMA_ES(R=domain_dict_to_array(bas_model.parameter_ranges), d=d, parents=N, offspring=int(N/2),\n",
    "                                               F=lambda ch: single_voxel_function(ch, bas_model, scheme_hcp, voxel_signal),\n",
    "                                               max_iter=T)\n",
    "        best_chromosome = es_plus.run()\n",
    "\n",
    "        our_bas_model[x][y] = set_params_from_chrom(best_chromosome, bas_model, scheme_hcp, voxel_signal)\n",
    "\n",
    "        voxel_mse[x][y] = our_bas_model[x][y].mean_squared_error(voxel_signal)\n",
    "\n",
    "print()\n",
    "print(f'Final MSE: {np.mean(voxel_mse)} and STD: {np.std(voxel_mse)}')\n",
    "# visualize_result(our_bas_model)"
   ]
  },
  {
   "cell_type": "code",
   "execution_count": 39,
   "metadata": {},
   "outputs": [
    {
     "name": "stderr",
     "output_type": "stream",
     "text": [
      "100%|██████████████████████████████████████████████████████████████████████████████████| 20/20 [03:40<00:00, 11.05s/it]"
     ]
    },
    {
     "name": "stdout",
     "output_type": "stream",
     "text": [
      "\n",
      "Final MSE: 0.017276001735747525 and STD: 0.010691455561000816\n",
      "Wall time: 3min 40s\n"
     ]
    },
    {
     "name": "stderr",
     "output_type": "stream",
     "text": [
      "\n"
     ]
    }
   ],
   "source": [
    "%%time\n",
    "# MAIN EVOLUTION PROCESS\n",
    "d = 6\n",
    "N = 20\n",
    "T = 100\n",
    "\n",
    "ball = gaussian_models.G1Ball()\n",
    "stick = cylinder_models.C1Stick()\n",
    "bas_model = MultiCompartmentModel(models=[stick, ball])\n",
    "\n",
    "# IMAGE SELECTION\n",
    "\n",
    "our_bas_model = {}\n",
    "voxel_mse = np.zeros([roi['width'], roi['height']])\n",
    "\n",
    "for x in tqdm.tqdm(range(roi['width'])):\n",
    "    our_bas_model[x] = {}\n",
    "    for y in range(roi['height']):\n",
    "\n",
    "        voxel_signal = data_hcp_roi[x, 0, y, :]\n",
    "        es_plus = CMA_ES(R=domain_dict_to_array(bas_model.parameter_ranges), d=d, parents=N, offspring=int(N/2),\n",
    "                                               F=lambda ch: single_voxel_function(ch, bas_model, scheme_hcp, voxel_signal),\n",
    "                                               max_iter=T)\n",
    "        best_chromosome = es_plus.run()\n",
    "\n",
    "        our_bas_model[x][y] = set_params_from_chrom(best_chromosome, bas_model, scheme_hcp, voxel_signal)\n",
    "\n",
    "        voxel_mse[x][y] = our_bas_model[x][y].mean_squared_error(voxel_signal)\n",
    "\n",
    "print()\n",
    "print(f'Final MSE: {np.mean(voxel_mse)} and STD: {np.std(voxel_mse)}')\n",
    "# visualize_result(our_bas_model)"
   ]
  },
  {
   "cell_type": "code",
   "execution_count": 40,
   "metadata": {},
   "outputs": [
    {
     "name": "stderr",
     "output_type": "stream",
     "text": [
      "100%|██████████████████████████████████████████████████████████████████████████████████| 20/20 [10:19<00:00, 30.95s/it]"
     ]
    },
    {
     "name": "stdout",
     "output_type": "stream",
     "text": [
      "\n",
      "Final MSE: 0.012454152555844365 and STD: 0.008182558207031801\n",
      "Wall time: 10min 19s\n"
     ]
    },
    {
     "name": "stderr",
     "output_type": "stream",
     "text": [
      "\n"
     ]
    }
   ],
   "source": [
    "%%time\n",
    "# MAIN EVOLUTION PROCESS\n",
    "d = 6\n",
    "N = 60\n",
    "T = 100\n",
    "\n",
    "ball = gaussian_models.G1Ball()\n",
    "stick = cylinder_models.C1Stick()\n",
    "bas_model = MultiCompartmentModel(models=[stick, ball])\n",
    "\n",
    "# IMAGE SELECTION\n",
    "\n",
    "our_bas_model = {}\n",
    "voxel_mse = np.zeros([roi['width'], roi['height']])\n",
    "\n",
    "for x in tqdm.tqdm(range(roi['width'])):\n",
    "    our_bas_model[x] = {}\n",
    "    for y in range(roi['height']):\n",
    "\n",
    "        voxel_signal = data_hcp_roi[x, 0, y, :]\n",
    "        es_plus = CMA_ES(R=domain_dict_to_array(bas_model.parameter_ranges), d=d, parents=N, offspring=int(N/2),\n",
    "                                               F=lambda ch: single_voxel_function(ch, bas_model, scheme_hcp, voxel_signal),\n",
    "                                               max_iter=T)\n",
    "        best_chromosome = es_plus.run()\n",
    "\n",
    "        our_bas_model[x][y] = set_params_from_chrom(best_chromosome, bas_model, scheme_hcp, voxel_signal)\n",
    "\n",
    "        voxel_mse[x][y] = our_bas_model[x][y].mean_squared_error(voxel_signal)\n",
    "\n",
    "print()\n",
    "print(f'Final MSE: {np.mean(voxel_mse)} and STD: {np.std(voxel_mse)}')\n",
    "# visualize_result(our_bas_model)"
   ]
  },
  {
   "cell_type": "code",
   "execution_count": 41,
   "metadata": {},
   "outputs": [
    {
     "name": "stderr",
     "output_type": "stream",
     "text": [
      "100%|█████████████████████████████████████████████████████████████████████████████████| 20/20 [33:40<00:00, 101.03s/it]"
     ]
    },
    {
     "name": "stdout",
     "output_type": "stream",
     "text": [
      "\n",
      "Final MSE: 0.00881466529254782 and STD: 0.005936287311624582\n",
      "Wall time: 33min 40s\n"
     ]
    },
    {
     "name": "stderr",
     "output_type": "stream",
     "text": [
      "\n"
     ]
    }
   ],
   "source": [
    "%%time\n",
    "# MAIN EVOLUTION PROCESS\n",
    "d = 6\n",
    "N = 200\n",
    "T = 100\n",
    "\n",
    "ball = gaussian_models.G1Ball()\n",
    "stick = cylinder_models.C1Stick()\n",
    "bas_model = MultiCompartmentModel(models=[stick, ball])\n",
    "\n",
    "# IMAGE SELECTION\n",
    "\n",
    "our_bas_model = {}\n",
    "voxel_mse = np.zeros([roi['width'], roi['height']])\n",
    "\n",
    "for x in tqdm.tqdm(range(roi['width'])):\n",
    "    our_bas_model[x] = {}\n",
    "    for y in range(roi['height']):\n",
    "\n",
    "        voxel_signal = data_hcp_roi[x, 0, y, :]\n",
    "        es_plus = CMA_ES(R=domain_dict_to_array(bas_model.parameter_ranges), d=d, parents=N, offspring=int(N/2),\n",
    "                                               F=lambda ch: single_voxel_function(ch, bas_model, scheme_hcp, voxel_signal),\n",
    "                                               max_iter=T)\n",
    "        best_chromosome = es_plus.run()\n",
    "\n",
    "        our_bas_model[x][y] = set_params_from_chrom(best_chromosome, bas_model, scheme_hcp, voxel_signal)\n",
    "\n",
    "        voxel_mse[x][y] = our_bas_model[x][y].mean_squared_error(voxel_signal)\n",
    "\n",
    "print()\n",
    "print(f'Final MSE: {np.mean(voxel_mse)} and STD: {np.std(voxel_mse)}')\n",
    "# visualize_result(our_bas_model)"
   ]
  },
  {
   "cell_type": "code",
   "execution_count": null,
   "metadata": {},
   "outputs": [],
   "source": []
  }
 ],
 "metadata": {
  "kernelspec": {
   "display_name": "Python 3",
   "language": "python",
   "name": "python3"
  },
  "language_info": {
   "codemirror_mode": {
    "name": "ipython",
    "version": 3
   },
   "file_extension": ".py",
   "mimetype": "text/x-python",
   "name": "python",
   "nbconvert_exporter": "python",
   "pygments_lexer": "ipython3",
   "version": "3.8.1"
  }
 },
 "nbformat": 4,
 "nbformat_minor": 4
}
